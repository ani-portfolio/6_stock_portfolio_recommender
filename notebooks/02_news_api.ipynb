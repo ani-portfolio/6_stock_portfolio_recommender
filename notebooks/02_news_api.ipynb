{
 "cells": [
  {
   "cell_type": "markdown",
   "metadata": {},
   "source": [
    "# Import Libraries"
   ]
  },
  {
   "cell_type": "code",
   "execution_count": 1,
   "metadata": {},
   "outputs": [
    {
     "name": "stderr",
     "output_type": "stream",
     "text": [
      "/Users/ani/Projects/6_stock_portfolio_recommendation/.venv/lib/python3.11/site-packages/tqdm/auto.py:21: TqdmWarning: IProgress not found. Please update jupyter and ipywidgets. See https://ipywidgets.readthedocs.io/en/stable/user_install.html\n",
      "  from .autonotebook import tqdm as notebook_tqdm\n"
     ]
    }
   ],
   "source": [
    "from newsapi import NewsApiClient\n",
    "\n",
    "import requests\n",
    "from transformers import pipeline\n",
    "\n",
    "import matplotlib.pyplot as plt\n",
    "import pandas as pd"
   ]
  },
  {
   "cell_type": "markdown",
   "metadata": {},
   "source": [
    "# NEWS API"
   ]
  },
  {
   "cell_type": "code",
   "execution_count": 2,
   "metadata": {},
   "outputs": [],
   "source": [
    "ticker_symbol = \"GOOGL\""
   ]
  },
  {
   "cell_type": "code",
   "execution_count": 3,
   "metadata": {},
   "outputs": [],
   "source": [
    "\n",
    "def fetch_stock_news(ticker_symbol):\n",
    "    # Replace with your actual NewsAPI key\n",
    "    api_key = 'a101780fac934cd6bf8fad7ddff97331'  # Ensure your API key is set here\n",
    "    url = f\"https://newsapi.org/v2/everything?q={ticker_symbol}&apiKey={api_key}\"\n",
    "    response = requests.get(url)\n",
    "    news_data = response.json()\n",
    "    # Check if the 'articles' key exists\n",
    "    if 'articles' in news_data:\n",
    "        return news_data['articles']\n",
    "    else:\n",
    "        return [] \n",
    "\n",
    "# Initialize sentiment analysis pipeline (use HuggingFace model or any other sentiment analysis model)\n",
    "def analyze_sentiment(news_articles):\n",
    "    sentiment_analyzer = pipeline(\"sentiment-analysis\", model=\"yiyanghkust/finbert-tone\")  # Use a model that works for financial sentiment\n",
    "    sentiments = []\n",
    "    \n",
    "    for article in news_articles:\n",
    "        sentiment = sentiment_analyzer(article['title'])[0]  # Analyzing the sentiment of the article title\n",
    "        sentiments.append(sentiment['label'])\n",
    "    \n",
    "    # Return the most common sentiment from the articles\n",
    "    if sentiments:\n",
    "        return max(set(sentiments), key=sentiments.count)\n",
    "    return \"neutral\"  # Default to neutral if no sentiment can be determined"
   ]
  },
  {
   "cell_type": "code",
   "execution_count": 4,
   "metadata": {},
   "outputs": [],
   "source": [
    "# from langchain.chains import LLMChain\n",
    "# from langchain.prompts import PromptTemplate\n",
    "# from langchain.llms import OpenAI\n",
    "\n",
    "def generate_recommendation(ticker):\n",
    "    # stock_history, stock_info = fetch_stock_data(ticker)\n",
    "    # price = stock_info.get('currentPrice', 'N/A')\n",
    "    # pe_ratio = stock_info.get('trailingPE', 'N/A')\n",
    "    # market_cap = stock_info.get('marketCap', 'N/A')\n",
    "\n",
    "    sentiment = analyze_sentiment(fetch_stock_news(ticker))"
   ]
  },
  {
   "cell_type": "code",
   "execution_count": null,
   "metadata": {},
   "outputs": [
    {
     "data": {
      "text/plain": [
       "'Why Google could help Alphabet win the AI race'"
      ]
     },
     "execution_count": 11,
     "metadata": {},
     "output_type": "execute_result"
    }
   ],
   "source": [
    "fetch_stock_news(ticker_symbol)[0]['title']"
   ]
  },
  {
   "cell_type": "code",
   "execution_count": null,
   "metadata": {},
   "outputs": [],
   "source": [
    "analyze_sentiment((fetch_stock_news(ticker_symbol))[0])"
   ]
  },
  {
   "cell_type": "code",
   "execution_count": null,
   "metadata": {},
   "outputs": [],
   "source": []
  }
 ],
 "metadata": {
  "kernelspec": {
   "display_name": ".venv",
   "language": "python",
   "name": "python3"
  },
  "language_info": {
   "codemirror_mode": {
    "name": "ipython",
    "version": 3
   },
   "file_extension": ".py",
   "mimetype": "text/x-python",
   "name": "python",
   "nbconvert_exporter": "python",
   "pygments_lexer": "ipython3",
   "version": "3.11.6"
  }
 },
 "nbformat": 4,
 "nbformat_minor": 2
}
