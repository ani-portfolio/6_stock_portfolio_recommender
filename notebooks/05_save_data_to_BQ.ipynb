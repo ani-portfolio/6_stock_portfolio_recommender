{
 "cells": [
  {
   "cell_type": "markdown",
   "id": "c99c6518",
   "metadata": {},
   "source": [
    "# Import Libraries"
   ]
  },
  {
   "cell_type": "code",
   "execution_count": null,
   "id": "5c615902",
   "metadata": {},
   "outputs": [],
   "source": [
    "# import os\n",
    "\n",
    "# os.chdir('..')\n",
    "# print(os.getcwd())"
   ]
  },
  {
   "cell_type": "code",
   "execution_count": 3,
   "id": "460efd41",
   "metadata": {},
   "outputs": [
    {
     "ename": "ModuleNotFoundError",
     "evalue": "No module named 'functions'",
     "output_type": "error",
     "traceback": [
      "\u001b[31m---------------------------------------------------------------------------\u001b[39m",
      "\u001b[31mModuleNotFoundError\u001b[39m                       Traceback (most recent call last)",
      "\u001b[36mCell\u001b[39m\u001b[36m \u001b[39m\u001b[32mIn[3]\u001b[39m\u001b[32m, line 1\u001b[39m\n\u001b[32m----> \u001b[39m\u001b[32m1\u001b[39m \u001b[38;5;28;01mfrom\u001b[39;00m\u001b[38;5;250m \u001b[39m\u001b[34;01mfunctions\u001b[39;00m\u001b[34;01m.\u001b[39;00m\u001b[34;01mdata_ingestion\u001b[39;00m\u001b[38;5;250m \u001b[39m\u001b[38;5;28;01mimport\u001b[39;00m get_base_data\n",
      "\u001b[31mModuleNotFoundError\u001b[39m: No module named 'functions'"
     ]
    }
   ],
   "source": [
    "from scripts.functions.data_ingestion import get_base_data"
   ]
  },
  {
   "cell_type": "code",
   "execution_count": 5,
   "id": "c422e8ad",
   "metadata": {},
   "outputs": [
    {
     "ename": "ImportError",
     "evalue": "attempted relative import with no known parent package",
     "output_type": "error",
     "traceback": [
      "\u001b[31m---------------------------------------------------------------------------\u001b[39m",
      "\u001b[31mImportError\u001b[39m                               Traceback (most recent call last)",
      "\u001b[36mCell\u001b[39m\u001b[36m \u001b[39m\u001b[32mIn[5]\u001b[39m\u001b[32m, line 1\u001b[39m\n\u001b[32m----> \u001b[39m\u001b[32m1\u001b[39m \u001b[38;5;28;01mfrom\u001b[39;00m\u001b[38;5;250m \u001b[39m\u001b[34;01m.\u001b[39;00m\u001b[34;01mscripts\u001b[39;00m\u001b[38;5;250m \u001b[39m\u001b[38;5;28;01mimport\u001b[39;00m *\n",
      "\u001b[31mImportError\u001b[39m: attempted relative import with no known parent package"
     ]
    }
   ],
   "source": [
    "from .scripts import *"
   ]
  },
  {
   "cell_type": "code",
   "execution_count": null,
   "id": "6a080860",
   "metadata": {},
   "outputs": [],
   "source": [
    "import pandas as pd\n",
    "import numpy as np\n",
    "import matplotlib.pyplot as plt\n",
    "\n",
    "import pandas_gbq\n",
    "\n",
    "import tensorflow as tf\n",
    "from sklearn.preprocessing import StandardScaler\n",
    "\n",
    "from scripts.functions.data_ingestion import *\n",
    "from src.parameters import *\n",
    "\n",
    "from google.cloud import bigquery\n",
    "from google.cloud.exceptions import NotFound\n",
    "\n",
    "from tqdm import tqdm\n",
    "import yfinance as yf\n",
    "import lxml"
   ]
  },
  {
   "cell_type": "markdown",
   "id": "1dc466d9",
   "metadata": {},
   "source": [
    "# Get List of Tickers"
   ]
  },
  {
   "cell_type": "code",
   "execution_count": null,
   "id": "87cb9501",
   "metadata": {},
   "outputs": [],
   "source": [
    "df_sp500 = get_base_data('https://en.wikipedia.org/wiki/List_of_S%26P_500_companies')\n",
    "df_sp500[:5]"
   ]
  },
  {
   "cell_type": "markdown",
   "id": "dbc60558",
   "metadata": {},
   "source": [
    "# Create Dataset with Features"
   ]
  },
  {
   "cell_type": "code",
   "execution_count": null,
   "id": "afb69938",
   "metadata": {},
   "outputs": [],
   "source": [
    "def calculate_annualized_returns(ticker_symbol, df_input, period=\"5y\"):\n",
    "    \"\"\"Calculate annualized returns for a given ticker over a specified period.\n",
    "    Args:\n",
    "        ticker (yfinance.Ticker): The ticker object for the stock.\n",
    "        period (str): The period over which to calculate returns (default is \"5y\").\n",
    "    Returns:\n",
    "        pd.Series: A series of annualized returns.\n",
    "    \"\"\"\n",
    "\n",
    "    try:\n",
    "        ticker = yf.Ticker(ticker_symbol)\n",
    "\n",
    "        # Get historical market data\n",
    "        hist = ticker.history(period=period).reset_index()\n",
    "        hist['Date'] = pd.to_datetime(hist['Date'])\n",
    "        hist['Year'] = hist['Date'].dt.year\n",
    "        current_year = hist['Year'].max()    \n",
    "\n",
    "        \n",
    "        # average annualized return\n",
    "        annualized_return = ((hist['Close'].iloc[-1] / hist['Close'].iloc[0]) ** (1 / (current_year - hist['Year'].min())) - 1) * 100\n",
    "        df_input.loc[df_input['Ticker'] == ticker_symbol, 'Annualized_Return'] = np.round(annualized_return, 2)\n",
    "\n",
    "        # Calculate Percent Returns\n",
    "        for year in hist['Year'].sort_values(ascending=False).unique():\n",
    "            if year == current_year:\n",
    "                ytd_return = ((hist[hist['Year'] == year]['Close'].iloc[-1] - hist[hist['Year'] == year]['Close'].iloc[0]) / hist[hist['Year'] == year]['Close'].iloc[0]) * 100\n",
    "                df_input.loc[df_input['Ticker'] == ticker_symbol, 'YTD_Pct_Return'] = np.round(ytd_return, 2)\n",
    "            elif year < current_year:\n",
    "                annual_return = ((hist[hist['Year'] == year]['Close'].iloc[-1] - hist[hist['Year'] == year]['Close'].iloc[0]) / hist[hist['Year'] == year]['Close'].iloc[0]) * 100\n",
    "                df_input.loc[df_input['Ticker'] == ticker_symbol, f'{year}_Pct_Return'] = np.round(annual_return, 2)\n",
    "        \n",
    "        # Get market cap\n",
    "        df_input.loc[df_input['Ticker'] == ticker_symbol, 'Market_Cap'] = ticker.info.get('marketCap', np.nan)\n",
    "        \n",
    "        # 24 Hour Change\n",
    "        hist['24_Hour_Change'] = hist['Close'].pct_change(periods=1) * 100\n",
    "        df_input.loc[df_input['Ticker'] == ticker_symbol, '24_Hour_Change'] = np.round(hist['24_Hour_Change'].iloc[-1], 2)\n",
    "\n",
    "        # 7 day Change\n",
    "        hist['7_Day_Change'] = hist['Close'].pct_change(periods=7) * 100\n",
    "        df_input.loc[df_input['Ticker'] == ticker_symbol, '7_Day_Change'] = np.round(hist['7_Day_Change'].iloc[-1], 2)\n",
    "\n",
    "        # 30 Day Change\n",
    "        hist['30_Day_Change'] = hist['Close'].pct_change(periods=30) * 100\n",
    "        df_input.loc[df_input['Ticker'] == ticker_symbol, '30_Day_Change'] = np.round(hist['30_Day_Change'].iloc[-1], 2)\n",
    "        \n",
    "        # Calculate 200 Day Moving Average & Pct Difference from it\n",
    "        hist['200_MA'] = hist['Close'].rolling(window=200).mean()\n",
    "        hist['Pct_Diff_200_MA'] = ((hist['Close'] - hist['200_MA']) / hist['200_MA']) * 100\n",
    "        df_input.loc[df_input['Ticker'] == ticker_symbol, 'Pct_Diff_200_MA'] = np.round(hist['Pct_Diff_200_MA'].iloc[-1], 2)\n",
    "        \n",
    "        # Calculate Volatility\n",
    "        hist['Daily_Return'] = hist['Close'].pct_change()\n",
    "        mean_daily_return = hist['Daily_Return'].mean()\n",
    "        volatility = (((hist['Daily_Return'] - mean_daily_return) ** 2).mean() ** 0.5) * np.sqrt(252)  # Annualize the volatility\n",
    "        df_input.loc[df_input['Ticker'] == ticker_symbol, 'Annualized_Volatility'] = np.round(volatility, 2)\n",
    "\n",
    "        # Calculate Sharpe Ratio\n",
    "        risk_free_rate = 0.01  # Assuming a risk-free rate of 1%\n",
    "        sharpe_ratio = (annualized_return - risk_free_rate) / volatility\n",
    "        df_input.loc[df_input['Ticker'] == ticker_symbol, 'Sharpe_Ratio'] = np.round(sharpe_ratio, 2)\n",
    "\n",
    "        # Calculate Beta\n",
    "        benchmark_ticker = '^GSPC'  # S&P 500 as benchmark\n",
    "        benchmark = yf.Ticker(benchmark_ticker)\n",
    "        benchmark_hist = benchmark.history(period=period).reset_index()\n",
    "        benchmark_hist['Date'] = pd.to_datetime(benchmark_hist['Date'])\n",
    "        benchmark_hist['Daily_Return'] = benchmark_hist['Close'].pct_change()\n",
    "        hist = hist.merge(benchmark_hist[['Date', 'Daily_Return']], on='Date', suffixes=('', '_Benchmark'))\n",
    "        covariance = hist['Daily_Return'].cov(hist['Daily_Return_Benchmark'])\n",
    "        benchmark_variance = hist['Daily_Return_Benchmark'].var()\n",
    "        beta = covariance / benchmark_variance if benchmark_variance != 0 else np.nan\n",
    "        df_input.loc[df_input['Ticker'] == ticker_symbol, 'Beta'] = np.round(beta, 2)\n",
    "\n",
    "        # Years since founded\n",
    "        df_input.loc[df_input['Ticker'] == ticker_symbol, 'Years_Since_Founded'] = current_year - int(df_input[df_input['Ticker'] == ticker_symbol]['Founded'].max()[:4])\n",
    "\n",
    "        return df_input\n",
    "    \n",
    "    except Exception as e:\n",
    "        print(f\"Error processing {ticker_symbol}: {e}\")\n",
    "        return df_input\n",
    "\n"
   ]
  },
  {
   "cell_type": "code",
   "execution_count": null,
   "id": "fe01512a",
   "metadata": {},
   "outputs": [],
   "source": [
    "for tickers in tqdm(df_sp500['Ticker'].unique().tolist()):\n",
    "    df_sp500 = calculate_annualized_returns(ticker_symbol=tickers, df_input=df_sp500, period=\"5y\")\n",
    "\n",
    "df_sp500 = df_sp500.sort_values('Market_Cap', ascending=False).reset_index(drop=True)\n",
    "df_sp500"
   ]
  },
  {
   "cell_type": "markdown",
   "id": "48229f5d",
   "metadata": {},
   "source": [
    "# Save to BigQuery"
   ]
  },
  {
   "cell_type": "code",
   "execution_count": null,
   "id": "06c86df6",
   "metadata": {},
   "outputs": [],
   "source": [
    "# Insert values in a table\n",
    "save_table_to_bigquery(df=df_sp500, dataset_id=dataset_id, table_id=table_id)"
   ]
  },
  {
   "cell_type": "markdown",
   "id": "e09c6158",
   "metadata": {},
   "source": [
    "# Load from BigQuery"
   ]
  },
  {
   "cell_type": "code",
   "execution_count": null,
   "id": "917cb4d8",
   "metadata": {},
   "outputs": [],
   "source": [
    "df_sp500 = load_table_from_bigquery(dataset_id=dataset_id, table_id=table_id, project_id=PROJECT_ID)\n",
    "df_sp500"
   ]
  }
 ],
 "metadata": {
  "kernelspec": {
   "display_name": ".venv",
   "language": "python",
   "name": "python3"
  },
  "language_info": {
   "codemirror_mode": {
    "name": "ipython",
    "version": 3
   },
   "file_extension": ".py",
   "mimetype": "text/x-python",
   "name": "python",
   "nbconvert_exporter": "python",
   "pygments_lexer": "ipython3",
   "version": "3.11.6"
  }
 },
 "nbformat": 4,
 "nbformat_minor": 5
}
