{
 "cells": [
  {
   "cell_type": "code",
   "execution_count": 2,
   "id": "45715ade",
   "metadata": {},
   "outputs": [
    {
     "data": {
      "text/html": [
       "<pre style=\"white-space:pre;overflow-x:auto;line-height:normal;font-family:Menlo,'DejaVu Sans Mono',consolas,'Courier New',monospace\">00:35:34.129 | <span style=\"color: #008080; text-decoration-color: #008080\">INFO</span>    | Flow run<span style=\"color: #800080; text-decoration-color: #800080\"> 'winged-wrasse'</span> - Beginning flow run<span style=\"color: #800080; text-decoration-color: #800080\"> 'winged-wrasse'</span> for flow<span style=\"color: #800080; text-decoration-color: #800080; font-weight: bold\"> 'main'</span>\n",
       "</pre>\n"
      ],
      "text/plain": [
       "00:35:34.129 | \u001b[36mINFO\u001b[0m    | Flow run\u001b[35m 'winged-wrasse'\u001b[0m - Beginning flow run\u001b[35m 'winged-wrasse'\u001b[0m for flow\u001b[1;35m 'main'\u001b[0m\n"
      ]
     },
     "metadata": {},
     "output_type": "display_data"
    },
    {
     "data": {
      "text/html": [
       "<pre style=\"white-space:pre;overflow-x:auto;line-height:normal;font-family:Menlo,'DejaVu Sans Mono',consolas,'Courier New',monospace\">00:35:34.136 | <span style=\"color: #008080; text-decoration-color: #008080\">INFO</span>    | Flow run<span style=\"color: #800080; text-decoration-color: #800080\"> 'winged-wrasse'</span> - View at <span style=\"color: #0000ff; text-decoration-color: #0000ff\">https://app.prefect.cloud/account/36697496-de25-488f-b026-b3376fe983c0/workspace/592892f4-32c7-4604-b989-38f1394dcb57/runs/flow-run/0684cfc1-5c4d-7578-8000-b7ce194975d5</span>\n",
       "</pre>\n"
      ],
      "text/plain": [
       "00:35:34.136 | \u001b[36mINFO\u001b[0m    | Flow run\u001b[35m 'winged-wrasse'\u001b[0m - View at \u001b[94mhttps://app.prefect.cloud/account/36697496-de25-488f-b026-b3376fe983c0/workspace/592892f4-32c7-4604-b989-38f1394dcb57/runs/flow-run/0684cfc1-5c4d-7578-8000-b7ce194975d5\u001b[0m\n"
      ]
     },
     "metadata": {},
     "output_type": "display_data"
    },
    {
     "data": {
      "text/html": [
       "<pre style=\"white-space:pre;overflow-x:auto;line-height:normal;font-family:Menlo,'DejaVu Sans Mono',consolas,'Courier New',monospace\">00:35:34.160 | <span style=\"color: #008080; text-decoration-color: #008080\">INFO</span>    | Task run 'get_customer_ids-011' - Finished in state <span style=\"color: #008000; text-decoration-color: #008000\">Completed</span>()\n",
       "</pre>\n"
      ],
      "text/plain": [
       "00:35:34.160 | \u001b[36mINFO\u001b[0m    | Task run 'get_customer_ids-011' - Finished in state \u001b[32mCompleted\u001b[0m()\n"
      ]
     },
     "metadata": {},
     "output_type": "display_data"
    },
    {
     "data": {
      "text/html": [
       "<pre style=\"white-space:pre;overflow-x:auto;line-height:normal;font-family:Menlo,'DejaVu Sans Mono',consolas,'Courier New',monospace\">00:35:34.246 | <span style=\"color: #008080; text-decoration-color: #008080\">INFO</span>    | Task run 'process_customer-faf' - Finished in state <span style=\"color: #008000; text-decoration-color: #008000\">Completed</span>()\n",
       "</pre>\n"
      ],
      "text/plain": [
       "00:35:34.246 | \u001b[36mINFO\u001b[0m    | Task run 'process_customer-faf' - Finished in state \u001b[32mCompleted\u001b[0m()\n"
      ]
     },
     "metadata": {},
     "output_type": "display_data"
    },
    {
     "data": {
      "text/html": [
       "<pre style=\"white-space:pre;overflow-x:auto;line-height:normal;font-family:Menlo,'DejaVu Sans Mono',consolas,'Courier New',monospace\">00:35:34.247 | <span style=\"color: #008080; text-decoration-color: #008080\">INFO</span>    | Task run 'process_customer-d92' - Finished in state <span style=\"color: #008000; text-decoration-color: #008000\">Completed</span>()\n",
       "</pre>\n"
      ],
      "text/plain": [
       "00:35:34.247 | \u001b[36mINFO\u001b[0m    | Task run 'process_customer-d92' - Finished in state \u001b[32mCompleted\u001b[0m()\n"
      ]
     },
     "metadata": {},
     "output_type": "display_data"
    },
    {
     "data": {
      "text/html": [
       "<pre style=\"white-space:pre;overflow-x:auto;line-height:normal;font-family:Menlo,'DejaVu Sans Mono',consolas,'Courier New',monospace\">00:35:34.247 | <span style=\"color: #008080; text-decoration-color: #008080\">INFO</span>    | Task run 'process_customer-d41' - Finished in state <span style=\"color: #008000; text-decoration-color: #008000\">Completed</span>()\n",
       "</pre>\n"
      ],
      "text/plain": [
       "00:35:34.247 | \u001b[36mINFO\u001b[0m    | Task run 'process_customer-d41' - Finished in state \u001b[32mCompleted\u001b[0m()\n"
      ]
     },
     "metadata": {},
     "output_type": "display_data"
    },
    {
     "data": {
      "text/html": [
       "<pre style=\"white-space:pre;overflow-x:auto;line-height:normal;font-family:Menlo,'DejaVu Sans Mono',consolas,'Courier New',monospace\">00:35:34.247 | <span style=\"color: #008080; text-decoration-color: #008080\">INFO</span>    | Task run 'process_customer-33a' - Finished in state <span style=\"color: #008000; text-decoration-color: #008000\">Completed</span>()\n",
       "</pre>\n"
      ],
      "text/plain": [
       "00:35:34.247 | \u001b[36mINFO\u001b[0m    | Task run 'process_customer-33a' - Finished in state \u001b[32mCompleted\u001b[0m()\n"
      ]
     },
     "metadata": {},
     "output_type": "display_data"
    },
    {
     "data": {
      "text/html": [
       "<pre style=\"white-space:pre;overflow-x:auto;line-height:normal;font-family:Menlo,'DejaVu Sans Mono',consolas,'Courier New',monospace\">00:35:34.248 | <span style=\"color: #008080; text-decoration-color: #008080\">INFO</span>    | Task run 'process_customer-3e2' - Finished in state <span style=\"color: #008000; text-decoration-color: #008000\">Completed</span>()\n",
       "</pre>\n"
      ],
      "text/plain": [
       "00:35:34.248 | \u001b[36mINFO\u001b[0m    | Task run 'process_customer-3e2' - Finished in state \u001b[32mCompleted\u001b[0m()\n"
      ]
     },
     "metadata": {},
     "output_type": "display_data"
    },
    {
     "data": {
      "text/html": [
       "<pre style=\"white-space:pre;overflow-x:auto;line-height:normal;font-family:Menlo,'DejaVu Sans Mono',consolas,'Courier New',monospace\">00:35:34.248 | <span style=\"color: #008080; text-decoration-color: #008080\">INFO</span>    | Task run 'process_customer-791' - Finished in state <span style=\"color: #008000; text-decoration-color: #008000\">Completed</span>()\n",
       "</pre>\n"
      ],
      "text/plain": [
       "00:35:34.248 | \u001b[36mINFO\u001b[0m    | Task run 'process_customer-791' - Finished in state \u001b[32mCompleted\u001b[0m()\n"
      ]
     },
     "metadata": {},
     "output_type": "display_data"
    },
    {
     "data": {
      "text/html": [
       "<pre style=\"white-space:pre;overflow-x:auto;line-height:normal;font-family:Menlo,'DejaVu Sans Mono',consolas,'Courier New',monospace\">00:35:34.249 | <span style=\"color: #008080; text-decoration-color: #008080\">INFO</span>    | Task run 'process_customer-eda' - Finished in state <span style=\"color: #008000; text-decoration-color: #008000\">Completed</span>()\n",
       "</pre>\n"
      ],
      "text/plain": [
       "00:35:34.249 | \u001b[36mINFO\u001b[0m    | Task run 'process_customer-eda' - Finished in state \u001b[32mCompleted\u001b[0m()\n"
      ]
     },
     "metadata": {},
     "output_type": "display_data"
    },
    {
     "data": {
      "text/html": [
       "<pre style=\"white-space:pre;overflow-x:auto;line-height:normal;font-family:Menlo,'DejaVu Sans Mono',consolas,'Courier New',monospace\">00:35:34.249 | <span style=\"color: #008080; text-decoration-color: #008080\">INFO</span>    | Task run 'process_customer-d89' - Finished in state <span style=\"color: #008000; text-decoration-color: #008000\">Completed</span>()\n",
       "</pre>\n"
      ],
      "text/plain": [
       "00:35:34.249 | \u001b[36mINFO\u001b[0m    | Task run 'process_customer-d89' - Finished in state \u001b[32mCompleted\u001b[0m()\n"
      ]
     },
     "metadata": {},
     "output_type": "display_data"
    },
    {
     "data": {
      "text/html": [
       "<pre style=\"white-space:pre;overflow-x:auto;line-height:normal;font-family:Menlo,'DejaVu Sans Mono',consolas,'Courier New',monospace\">00:35:34.250 | <span style=\"color: #008080; text-decoration-color: #008080\">INFO</span>    | Task run 'process_customer-f27' - Finished in state <span style=\"color: #008000; text-decoration-color: #008000\">Completed</span>()\n",
       "</pre>\n"
      ],
      "text/plain": [
       "00:35:34.250 | \u001b[36mINFO\u001b[0m    | Task run 'process_customer-f27' - Finished in state \u001b[32mCompleted\u001b[0m()\n"
      ]
     },
     "metadata": {},
     "output_type": "display_data"
    },
    {
     "data": {
      "text/html": [
       "<pre style=\"white-space:pre;overflow-x:auto;line-height:normal;font-family:Menlo,'DejaVu Sans Mono',consolas,'Courier New',monospace\">00:35:34.251 | <span style=\"color: #008080; text-decoration-color: #008080\">INFO</span>    | Task run 'process_customer-a17' - Finished in state <span style=\"color: #008000; text-decoration-color: #008000\">Completed</span>()\n",
       "</pre>\n"
      ],
      "text/plain": [
       "00:35:34.251 | \u001b[36mINFO\u001b[0m    | Task run 'process_customer-a17' - Finished in state \u001b[32mCompleted\u001b[0m()\n"
      ]
     },
     "metadata": {},
     "output_type": "display_data"
    },
    {
     "data": {
      "text/html": [
       "<pre style=\"white-space:pre;overflow-x:auto;line-height:normal;font-family:Menlo,'DejaVu Sans Mono',consolas,'Courier New',monospace\">00:35:34.428 | <span style=\"color: #008080; text-decoration-color: #008080\">INFO</span>    | Flow run<span style=\"color: #800080; text-decoration-color: #800080\"> 'winged-wrasse'</span> - Finished in state <span style=\"color: #008000; text-decoration-color: #008000\">Completed</span>('All states completed.')\n",
       "</pre>\n"
      ],
      "text/plain": [
       "00:35:34.428 | \u001b[36mINFO\u001b[0m    | Flow run\u001b[35m 'winged-wrasse'\u001b[0m - Finished in state \u001b[32mCompleted\u001b[0m('All states completed.')\n"
      ]
     },
     "metadata": {},
     "output_type": "display_data"
    }
   ],
   "source": [
    "from prefect import flow, task\n",
    "import random\n",
    "\n",
    "@task\n",
    "def get_customer_ids() -> list[str]:\n",
    "    # Fetch customer IDs from a database or API\n",
    "    return [f\"customer{n}\" for n in random.choices(range(100), k=10)]\n",
    "\n",
    "@task\n",
    "def process_customer(customer_id: str) -> str:\n",
    "    # Process a single customer\n",
    "    return f\"Processed {customer_id}\"\n",
    "\n",
    "@flow\n",
    "def main() -> list[str]:\n",
    "    customer_ids = get_customer_ids()\n",
    "    # Map the process_customer task across all customer IDs\n",
    "    results = process_customer.map(customer_ids)\n",
    "    return results\n",
    "\n",
    "\n",
    "if __name__ == \"__main__\":\n",
    "    main()"
   ]
  }
 ],
 "metadata": {
  "kernelspec": {
   "display_name": ".venv",
   "language": "python",
   "name": "python3"
  },
  "language_info": {
   "codemirror_mode": {
    "name": "ipython",
    "version": 3
   },
   "file_extension": ".py",
   "mimetype": "text/x-python",
   "name": "python",
   "nbconvert_exporter": "python",
   "pygments_lexer": "ipython3",
   "version": "3.11.6"
  }
 },
 "nbformat": 4,
 "nbformat_minor": 5
}
