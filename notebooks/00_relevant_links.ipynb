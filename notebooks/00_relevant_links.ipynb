{
 "cells": [
  {
   "cell_type": "markdown",
   "metadata": {},
   "source": [
    "# Relevant Links"
   ]
  },
  {
   "cell_type": "markdown",
   "metadata": {},
   "source": [
    "**Excalidraw**: https://excalidraw.com/\n",
    "\n",
    "**GitHub**: https://github.com/ani-portfolio/6_stock_portfolio_recommender/tree/dev\n",
    "\n",
    "**Google Cloud Platform**: https://console.cloud.google.com/welcome?inv=1&invt=Abyu1A&project=capable-arbor-293714"
   ]
  },
  {
   "cell_type": "markdown",
   "metadata": {},
   "source": []
  }
 ],
 "metadata": {
  "language_info": {
   "name": "python"
  }
 },
 "nbformat": 4,
 "nbformat_minor": 2
}
