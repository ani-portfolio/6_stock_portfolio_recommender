{
 "cells": [
  {
   "cell_type": "markdown",
   "metadata": {},
   "source": [
    "# Relevant Links"
   ]
  },
  {
   "cell_type": "markdown",
   "metadata": {},
   "source": [
    "**Excalidraw**: https://excalidraw.com/\n",
    "\n",
    "**Notion**: https://www.notion.so/LLM-Project-using-RAG-App-108c0cbf538b80369e55f850b559a483?pvs=4\n",
    "\n",
    "**GitHub**: https://github.com/ani-portfolio/6_stock_portfolio_recommender/tree/dev\n",
    "\n",
    "**Google Cloud Platform**: https://console.cloud.google.com/welcome?inv=1&invt=Abyu1A&project=capable-arbor-293714"
   ]
  }
 ],
 "metadata": {
  "kernelspec": {
   "display_name": ".venv",
   "language": "python",
   "name": "python3"
  },
  "language_info": {
   "name": "python",
   "version": "3.11.6"
  }
 },
 "nbformat": 4,
 "nbformat_minor": 2
}
